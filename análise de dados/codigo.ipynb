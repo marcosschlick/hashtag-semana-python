{
 "cells": [
  {
   "cell_type": "markdown",
   "metadata": {},
   "source": [
    "# Python Insights - Analisando Dados com Python\n",
    "\n",
    "### Case - Cancelamento de Clientes\n",
    "\n",
    "Você foi contratado por uma empresa com mais de 800 mil clientes para um projeto de Dados. Recentemente a empresa percebeu que da sua base total de clientes, a maioria são clientes inativos, ou seja, que já cancelaram o serviço.\n",
    "\n",
    "Precisando melhorar seus resultados ela quer conseguir entender os principais motivos desses cancelamentos e quais as ações mais eficientes para reduzir esse número.\n",
    "\n",
    "Base de dados e arquivos: https://drive.google.com/drive/folders/1uDesZePdkhiraJmiyeZ-w5tfc8XsNYFZ?usp=drive_link"
   ]
  },
  {
   "cell_type": "markdown",
   "metadata": {},
   "source": [
    "## Passo a Passo do Projeto\n",
    "\n",
    "#### Passo 1: Importar Base de Dados\n",
    "- Carregar os dados necessários para análise.\n",
    "\n",
    "## Passo 2: Visualizar Base de Dados\n",
    "- Examinar a estrutura e os valores iniciais da base.\n",
    "\n",
    "### Passo 3: Corrigir Erros na Base de Dados\n",
    "- Tratar inconsistências, valores ausentes e problemas de formatação.\n",
    "\n",
    "### Passo 4: Análise dos Cancelamentos\n",
    "- Explorar as métricas relacionadas aos cancelamentos.\n",
    "\n",
    "### Passo 5: Análise das Causas dos Cancelamentos\n",
    "- Avaliar como diferentes colunas impactam o cancelamento.\n",
    "\n",
    "---\n",
    "\n",
    "### Instalação de Pacotes Necessários para o Projeto\n",
    "Execute os comandos abaixo para instalar os pacotes essenciais:\n",
    "\n",
    "```python\n",
    "!pip install pandas numpy openpyxl nbformat ipykernel plotly\n",
    "```"
   ]
  },
  {
   "cell_type": "code",
   "execution_count": 21,
   "metadata": {},
   "outputs": [],
   "source": [
    "# Passo 1: Importar a base de dados\n",
    "import pandas as pd  # Importa o pandas, uma biblioteca para manipulação de dados estruturados (DataFrames e séries temporais).\n",
    "\n",
    "# Carrega a base de dados em um DataFrame chamado 'tabela'\n",
    "tabela = pd.read_csv(\"cancelamentos_sample.csv\")  # Lê um arquivo CSV e transforma em um DataFrame do pandas."
   ]
  },
  {
   "cell_type": "code",
   "execution_count": null,
   "metadata": {},
   "outputs": [],
   "source": [
    "# Passo 2: Visualizar a base de dados\n",
    "# Remoção de colunas que não contribuem para a análise.\n",
    "tabela = tabela.drop(columns=\"CustomerID\")  # Remove a coluna \"CustomerID\" pois não é relevante para a análise.\n",
    "\n",
    "# Exibe as primeiras linhas do DataFrame para inspecionar a estrutura e os dados iniciais.\n",
    "display(tabela)"
   ]
  },
  {
   "cell_type": "code",
   "execution_count": null,
   "metadata": {},
   "outputs": [],
   "source": [
    "# Passo 3: Corrigir as \"cagadas\" da base de dados\n",
    "# Exibe informações sobre o DataFrame, incluindo tipos de dados e valores ausentes.\n",
    "display(tabela.info())\n",
    "\n",
    "# Remove as linhas com valores ausentes em qualquer coluna.\n",
    "tabela = tabela.dropna()\n",
    "\n",
    "# Verifica novamente a estrutura do DataFrame após a limpeza.\n",
    "display(tabela.info())"
   ]
  },
  {
   "cell_type": "code",
   "execution_count": null,
   "metadata": {},
   "outputs": [],
   "source": [
    "# Passo 4: Análise inicial dos cancelamentos\n",
    "# Conta quantas pessoas cancelaram e quantas não cancelaram (frequência absoluta).\n",
    "display(tabela[\"cancelou\"].value_counts())\n",
    "\n",
    "# Calcula a proporção de cancelamentos em percentual.\n",
    "display(tabela[\"cancelou\"].value_counts(normalize=True))"
   ]
  },
  {
   "cell_type": "code",
   "execution_count": null,
   "metadata": {},
   "outputs": [],
   "source": [
    "# Passo 5: Análise das causas dos cancelamentos\n",
    "# Gráficos/dashboards para entender o impacto de cada coluna no cancelamento.\n",
    "import plotly.express as px  # Importa o plotly express, usado para criar gráficos interativos.\n",
    "\n",
    "# Cria gráficos histográficos para cada coluna, coloridos de acordo com a coluna \"cancelou\".\n",
    "for coluna in tabela.columns:\n",
    "    grafico = px.histogram(tabela, x=coluna, color=\"cancelou\")  # Histograma com separação por cancelamento.\n",
    "    grafico.show()  # Exibe o gráfico.\n",
    "\n",
    "# Análise baseada nos insights dos gráficos:\n",
    "# - Clientes com contrato mensal (\"Monthly\") têm maior probabilidade de cancelar.\n",
    "# - Clientes que ligam mais de 4 vezes ao call center cancelam com maior frequência.\n",
    "# - Clientes que atrasaram mais de 20 dias têm maior chance de cancelar.\n",
    "\n",
    "# Filtra os dados para criar um conjunto com os clientes menos propensos a cancelar, baseado nos insights anteriores.\n",
    "tabela = tabela[tabela[\"duracao_contrato\"] != \"Monthly\"]  # Remove clientes com contratos mensais.\n",
    "tabela = tabela[tabela[\"ligacoes_callcenter\"] <= 4]  # Mantém clientes com até 4 ligações ao call center.\n",
    "tabela = tabela[tabela[\"dias_atraso\"] <= 20]  # Mantém clientes com até 20 dias de atraso.\n",
    "\n",
    "# Reanalisa os cancelamentos após aplicar os filtros.\n",
    "display(tabela[\"cancelou\"].value_counts())  # Frequência absoluta.\n",
    "display(tabela[\"cancelou\"].value_counts(normalize=True))  # Frequência relativa (percentual)."
   ]
  },
  {
   "cell_type": "code",
   "execution_count": 26,
   "metadata": {},
   "outputs": [],
   "source": [
    "# Comando adicional sugerido para atualização de pacotes utilizados no projeto\n",
    "# !pip install nbformat --upgrade"
   ]
  }
 ],
 "metadata": {
  "kernelspec": {
   "display_name": "Python 3",
   "language": "python",
   "name": "python3"
  },
  "language_info": {
   "codemirror_mode": {
    "name": "ipython",
    "version": 3
   },
   "file_extension": ".py",
   "mimetype": "text/x-python",
   "name": "python",
   "nbconvert_exporter": "python",
   "pygments_lexer": "ipython3",
   "version": "3.13.1"
  },
  "orig_nbformat": 4
 },
 "nbformat": 4,
 "nbformat_minor": 2
}
