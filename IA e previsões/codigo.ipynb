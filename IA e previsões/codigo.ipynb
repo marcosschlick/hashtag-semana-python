{
 "cells": [
  {
   "cell_type": "markdown",
   "metadata": {},
   "source": [
    "# Projeto Python IA: Inteligência Artificial e Previsões\n",
    "\n",
    "### Case: Score de Crédito dos Clientes\n",
    "\n",
    "Você foi contratado por um banco para conseguir definir o score de crédito dos clientes. Você precisa analisar todos os clientes do banco e, com base nessa análise, criar um modelo que consiga ler as informações do cliente e dizer automaticamente o score de crédito dele: Ruim, Ok, Bom\n",
    "\n",
    "Arquivos da aula: https://drive.google.com/drive/folders/1FbDqVq4XLvU85VBlVIMJ73p9oOu6u2-J?usp=drive_link"
   ]
  },
  {
   "cell_type": "markdown",
   "metadata": {},
   "source": [
    "## Passo a Passo do Projeto de Modelagem\n",
    "\n",
    "### Passo 1: Importar a Base de Dados\n",
    "Carregar os dados necessários para análise e modelagem.\n",
    "\n",
    "### Passo 2: Preparar os Dados\n",
    "Realizar limpeza, transformação de colunas categóricas para numéricas e exibir as informações atualizadas da base.\n",
    "\n",
    "### Passo 3: Treinar os Modelos\n",
    "Criar e treinar dois tipos de modelos:  \n",
    "- **Random Forest** (baseado em árvores de decisão).  \n",
    "- **KNN (K-Nearest Neighbors)** (baseado em vizinhos mais próximos).\n",
    "\n",
    "### Passo 4: Avaliar os Modelos\n",
    "Calcular métricas de desempenho e comparar os resultados dos modelos.\n",
    "\n",
    "### Passo 5: Prever Usando Novos Clientes\n",
    "Aplicar o modelo escolhido para prever os resultados com dados de novos clientes.\n",
    "\n",
    "---\n",
    "\n",
    "### Instalação de Pacotes Necessários para o Projeto\n",
    "Execute os comandos abaixo para instalar os pacotes essenciais:\n",
    "\n",
    "```python\n",
    "!pip install pandas scikit-learn\n",
    "```"
   ]
  },
  {
   "cell_type": "code",
   "execution_count": null,
   "metadata": {},
   "outputs": [],
   "source": [
    "# Passo 1: Importar a base de dados\n",
    "import pandas as pd  # Importa a biblioteca pandas para manipulação de dados.\n",
    "\n",
    "# Lê o arquivo CSV contendo os dados dos clientes e armazena em um DataFrame.\n",
    "tabela = pd.read_csv(\"clientes.csv\")\n",
    "\n",
    "# Exibe os dados carregados.\n",
    "display(tabela)\n",
    "\n",
    "# O objetivo é analisar a coluna \"score_credito\", que indica a classificação de crédito:\n",
    "# Good -> Boa, Standard -> OK, Poor -> Ruim."
   ]
  },
  {
   "cell_type": "code",
   "execution_count": null,
   "metadata": {},
   "outputs": [],
   "source": [
    "# Passo 2: Preparar os dados\n",
    "# Exibe informações sobre o DataFrame, incluindo tipos de dados e valores nulos.\n",
    "display(tabela.info())\n",
    "\n",
    "# Converte colunas categóricas (texto) em valores numéricos usando LabelEncoder.\n",
    "from sklearn.preprocessing import LabelEncoder  # Importa o codificador.\n",
    "\n",
    "# Converte a coluna \"profissao\" para valores numéricos.\n",
    "codificador_profissao = LabelEncoder()\n",
    "tabela[\"profissao\"] = codificador_profissao.fit_transform(tabela[\"profissao\"])\n",
    "\n",
    "# Converte a coluna \"mix_credito\".\n",
    "codificador_credito = LabelEncoder()\n",
    "tabela[\"mix_credito\"] = codificador_credito.fit_transform(tabela[\"mix_credito\"])\n",
    "\n",
    "# Converte a coluna \"comportamento_pagamento\".\n",
    "codificador_pagamento = LabelEncoder()\n",
    "tabela[\"comportamento_pagamento\"] = codificador_pagamento.fit_transform(tabela[\"comportamento_pagamento\"])\n",
    "\n",
    "# Exibe as informações atualizadas da tabela após as transformações.\n",
    "display(tabela.info())"
   ]
  },
  {
   "cell_type": "code",
   "execution_count": 3,
   "metadata": {},
   "outputs": [],
   "source": [
    "# Passo 2: Preparar os dados\n",
    "# Define a variável target (y), que é a coluna que queremos prever.\n",
    "y = tabela[\"score_credito\"]\n",
    "\n",
    "# Define as variáveis preditoras (x), removendo colunas irrelevantes.\n",
    "x = tabela.drop(columns=[\"score_credito\", \"id_cliente\"])"
   ]
  },
  {
   "cell_type": "code",
   "execution_count": null,
   "metadata": {},
   "outputs": [],
   "source": [
    "# Passo 2: Preparar os dados\n",
    "# Divide os dados em conjuntos de treino (70%) e teste (30%).\n",
    "from sklearn.model_selection import train_test_split\n",
    "x_treino, x_teste, y_treino, y_teste = train_test_split(x, y, test_size=0.3)"
   ]
  },
  {
   "cell_type": "code",
   "execution_count": null,
   "metadata": {},
   "outputs": [],
   "source": [
    "# Passo 3: Treinar os modelos\n",
    "# Importa os algoritmos de classificação.\n",
    "from sklearn.ensemble import RandomForestClassifier\n",
    "from sklearn.neighbors import KNeighborsClassifier\n",
    "\n",
    "# Cria os modelos.\n",
    "modelo_arvoredecisao = RandomForestClassifier()  # Modelo baseado em árvores de decisão.\n",
    "modelo_knn = KNeighborsClassifier()  # Modelo baseado em KNN (vizinhos mais próximos).\n",
    "\n",
    "# Treina os modelos com os dados de treino.\n",
    "modelo_arvoredecisao.fit(x_treino, y_treino)\n",
    "modelo_knn.fit(x_treino, y_treino)"
   ]
  },
  {
   "cell_type": "code",
   "execution_count": null,
   "metadata": {},
   "outputs": [],
   "source": [
    "# Passo 4: Avaliar os modelos\n",
    "# Faz previsões nos dados de teste.\n",
    "previsao_arvoredecisao = modelo_arvoredecisao.predict(x_teste)\n",
    "previsao_knn = modelo_knn.predict(x_teste)\n",
    "\n",
    "# Calcula a acurácia dos modelos.\n",
    "from sklearn.metrics import accuracy_score\n",
    "display(accuracy_score(y_teste, previsao_arvoredecisao))  # Acurácia do modelo RandomForest.\n",
    "display(accuracy_score(y_teste, previsao_knn))  # Acurácia do modelo KNN."
   ]
  },
  {
   "cell_type": "code",
   "execution_count": null,
   "metadata": {},
   "outputs": [],
   "source": [
    "# Passo 5: Prever usando novos clientes\n",
    "# Importa os novos clientes para previsão.\n",
    "tabela_novos_clientes = pd.read_csv(\"novos_clientes.csv\")\n",
    "\n",
    "# Realiza as mesmas transformações de codificação nos novos dados.\n",
    "tabela_novos_clientes[\"profissao\"] = codificador_profissao.transform(\n",
    "    tabela_novos_clientes[\"profissao\"])\n",
    "tabela_novos_clientes[\"mix_credito\"] = codificador_credito.transform(\n",
    "    tabela_novos_clientes[\"mix_credito\"])\n",
    "tabela_novos_clientes[\"comportamento_pagamento\"] = codificador_pagamento.transform(\n",
    "    tabela_novos_clientes[\"comportamento_pagamento\"])\n",
    "\n",
    "# Exibe os dados transformados.\n",
    "display(tabela_novos_clientes)\n",
    "\n",
    "# Faz previsões com o melhor modelo (modelo_arvoredecisao).\n",
    "nova_previsao = modelo_arvoredecisao.predict(tabela_novos_clientes)\n",
    "display(nova_previsao)  # Exibe os resultados das previsões."
   ]
  }
 ],
 "metadata": {
  "kernelspec": {
   "display_name": "Python 3",
   "language": "python",
   "name": "python3"
  },
  "language_info": {
   "codemirror_mode": {
    "name": "ipython",
    "version": 3
   },
   "file_extension": ".py",
   "mimetype": "text/x-python",
   "name": "python",
   "nbconvert_exporter": "python",
   "pygments_lexer": "ipython3",
   "version": "3.13.1"
  },
  "orig_nbformat": 4
 },
 "nbformat": 4,
 "nbformat_minor": 2
}
